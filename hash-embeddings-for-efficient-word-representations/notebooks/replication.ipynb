{
 "cells": [
  {
   "cell_type": "code",
   "execution_count": 1,
   "metadata": {},
   "outputs": [],
   "source": [
    "import torch\n",
    "import torch.nn as nn\n",
    "import torch.nn.functional as F\n",
    "from torch.autograd import Variable\n",
    "import nltk\n",
    "import numpy as np\n",
    "import hashlib\n",
    "from torch.utils.data import TensorDataset, DataLoader\n",
    "from sklearn.feature_extraction.text import CountVectorizer\n",
    "import string\n",
    "import dataloader\n",
    "import random\n",
    "import progressbar"
   ]
  },
  {
   "cell_type": "code",
   "execution_count": 2,
   "metadata": {},
   "outputs": [
    {
     "name": "stdout",
     "output_type": "stream",
     "text": [
      "Num samples: 120000\n"
     ]
    }
   ],
   "source": [
    "dl_obj = dataloader.UniversalArticleDatasetProvider(1, valid_fraction=0.05)\n",
    "dl_obj.load_data()"
   ]
  },
  {
   "cell_type": "code",
   "execution_count": 3,
   "metadata": {},
   "outputs": [],
   "source": [
    "def remove_punct(in_string):\n",
    "    return ''.join([ch.lower() if ch not in string.punctuation else ' ' for ch in in_string])\n",
    "\n",
    "\n",
    "def bigram_vectorizer(documents, bigram_dict={}):\n",
    "    if len(bigram_dict)==0:\n",
    "        docs2id = [None]*len(documents)\n",
    "        for (i, document) in enumerate(documents):\n",
    "            tokens = document.split(' ')\n",
    "            docs2id[i] = [None]*(len(tokens)-1)\n",
    "            for j in range(len(tokens)-1):\n",
    "                key = tokens[j]+\"_\"+tokens[j+1]\n",
    "                if key not in bigram_dict:\n",
    "                    bigram_dict[key] = len(bigram_dict)+1\n",
    "                docs2id[i][j] = bigram_dict[key]\n",
    "        return bigram_dict, docs2id\n",
    "    else:\n",
    "        docs2id = [None]*len(documents)\n",
    "        for (i, document) in enumerate(documents):\n",
    "            tokens = document.split(' ')\n",
    "            docs2id[i] = [None]*(len(tokens)-1)\n",
    "            for j in range(len(tokens)-1):\n",
    "                key = tokens[j]+\"_\"+tokens[j+1]\n",
    "                if key not in bigram_dict:\n",
    "                    docs2id[i][j] = 0\n",
    "                else:\n",
    "                    docs2id[i][j] = bigram_dict[key]\n",
    "        return docs2id"
   ]
  },
  {
   "cell_type": "code",
   "execution_count": 4,
   "metadata": {},
   "outputs": [],
   "source": [
    "def input_dropout(docs_as_ids, min_len=4, max_len=100):\n",
    "    dropped_input = [None]*len(docs_as_ids)\n",
    "    for i, doc in enumerate(docs_as_ids):\n",
    "        random_len = random.randrange(min_len, max_len+1)\n",
    "        idx = max(len(doc)-random_len, 0)\n",
    "        dropped_input[i] = doc[idx:idx+random_len]\n",
    "    return dropped_input"
   ]
  },
  {
   "cell_type": "code",
   "execution_count": 5,
   "metadata": {},
   "outputs": [],
   "source": [
    "max_words = 10**7\n",
    "num_hash = 2\n",
    "num_buckets = 10**6\n",
    "embedding_dim = 20\n",
    "num_classes = 4\n",
    "num_hidden_units = 50\n",
    "learning_rate = 1e-3\n",
    "agg_function = torch.sum\n",
    "num_epochs = 2\n",
    "batch_size = 32\n",
    "max_len = 150"
   ]
  },
  {
   "cell_type": "code",
   "execution_count": 6,
   "metadata": {},
   "outputs": [],
   "source": [
    "train_documents = [remove_punct(sample['text']) for sample in dl_obj.train_samples[:5000]]\n",
    "train_targets = [sample['class'] - 1 for sample in dl_obj.train_samples[:5000]]\n",
    "\n",
    "val_documents = [remove_punct(sample['text']) for sample in dl_obj.valid_samples[:1000]]\n",
    "val_targets = [sample['class'] - 1 for sample in dl_obj.valid_samples[:1000]]\n",
    "\n",
    "bigram_dict, train_docs2id = bigram_vectorizer(train_documents)\n",
    "val_docs2id = bigram_vectorizer(val_documents, bigram_dict)\n",
    "\n",
    "train_docs2id = input_dropout(train_docs2id)\n",
    "train_docs2id = torch.LongTensor([d+[0]*(max_len-len(d)) for d in train_docs2id])\n",
    "train_targets = torch.LongTensor(np.asarray(train_targets, 'int32'))\n",
    "\n",
    "val_docs2id = input_dropout(val_docs2id)\n",
    "val_docs2id = torch.LongTensor([d+[0]*(max_len-len(d)) for d in val_docs2id])\n",
    "val_targets = torch.LongTensor(np.asarray(val_targets, 'int32'))\n",
    "\n",
    "train_dataset = TensorDataset(train_docs2id, train_targets)\n",
    "val_dataset = TensorDataset(val_docs2id, val_targets)\n",
    "\n",
    "train_dataloader = DataLoader(train_dataset, batch_size=batch_size, shuffle=True)\n",
    "val_dataloader = DataLoader(val_dataset, batch_size=batch_size, shuffle=False)"
   ]
  },
  {
   "cell_type": "code",
   "execution_count": 7,
   "metadata": {},
   "outputs": [],
   "source": [
    "class HashEmbedding(nn.Module):\n",
    "    \n",
    "    def __init__(self, num_words, num_hash_functions, num_buckets, embedding_size, agg_function):\n",
    "        super(HashEmbedding, self).__init__()\n",
    "        self.num_words = num_words # K\n",
    "        self.num_hash_functions = num_hash_functions # k\n",
    "        self.num_buckets = num_buckets # B\n",
    "        self.embedding_size = embedding_size # d\n",
    "        self.W = nn.Parameter(torch.FloatTensor(num_buckets, embedding_size)) # B x d\n",
    "        self.agg_func = agg_function\n",
    "        self.hash_table = torch.LongTensor(np.random.randint(0, 2**30,\n",
    "                                size=(num_words, num_hash_functions)))%num_buckets # K x k\n",
    "        \n",
    "        self.P = nn.Parameter(torch.FloatTensor(num_words, num_hash_functions)) # K x k\n",
    "\n",
    "    \n",
    "    def forward(self, words_as_ids):\n",
    "        embeddings = []\n",
    "        pvals = []\n",
    "        for i in range(self.num_hash_functions):\n",
    "            hashes = torch.take(self.hash_table[:, i], words_as_ids)\n",
    "            embeddings.append(self.W[hashes, :]*self.P[hashes, :][:, :, i].unsqueeze(-1))\n",
    "            pvals.append(self.P[hashes, :][:, :, i].unsqueeze(-1))\n",
    "\n",
    "        cat_embeddings = torch.stack(embeddings, -1)\n",
    "        cat_embeddings = self.agg_func(cat_embeddings, -1)\n",
    "        cat_pvals = torch.cat(pvals, -1)\n",
    "        output = torch.cat([cat_embeddings, cat_pvals], -1)\n",
    "        return output\n",
    "        #return cat_embeddings\n",
    "    \n",
    "    def initializeWeights(self):\n",
    "        nn.init.normal(self.W, 0, 0.1)\n",
    "        nn.init.normal(self.P, 0, 0.0005)\n",
    "        \n",
    "class Model(nn.Module):\n",
    "    \n",
    "    def __init__(self, embedding_model, num_classes, num_hidden_units):\n",
    "        super(Model, self).__init__()\n",
    "        self.embedding_model = embedding_model\n",
    "        self.num_classes = num_classes\n",
    "        self.dense_layer = nn.Linear(self.embedding_model.embedding_size+self.embedding_model.num_hash_functions,\n",
    "        #self.dense_layer = nn.Linear(self.embedding_model.embedding_size,\n",
    "                                     num_hidden_units)\n",
    "        self.output_layer = nn.Linear(num_hidden_units, num_classes)\n",
    "    \n",
    "    def forward(self, words_as_ids):\n",
    "        mask = Variable(torch.unsqueeze(1-torch.eq(words_as_ids, 0).float(), -1))\n",
    "        embedded = torch.sum(self.embedding_model(words_as_ids)*mask, 1)\n",
    "        #import pdb; pdb.set_trace()\n",
    "        dense_output = F.relu(self.dense_layer(embedded))\n",
    "        final_output = self.output_layer(dense_output)\n",
    "        return final_output\n",
    "    \n",
    "    def initializeWeights(self):\n",
    "        nn.init.xavier_uniform(self.dense_layer.weight)\n",
    "        nn.init.xavier_uniform(self.output_layer.weight)\n",
    "        model.dense_layer.bias.data.zero_()\n",
    "        model.output_layer.bias.data.zero_()"
   ]
  },
  {
   "cell_type": "code",
   "execution_count": 8,
   "metadata": {},
   "outputs": [],
   "source": [
    "embedding_model = HashEmbedding(max_words, num_hash, num_buckets, embedding_dim, agg_function)\n",
    "embedding_model.initializeWeights()"
   ]
  },
  {
   "cell_type": "code",
   "execution_count": 9,
   "metadata": {},
   "outputs": [],
   "source": [
    "model = Model(embedding_model, num_classes, num_hidden_units)\n",
    "model.initializeWeights()"
   ]
  },
  {
   "cell_type": "code",
   "execution_count": 10,
   "metadata": {},
   "outputs": [
    {
     "name": "stderr",
     "output_type": "stream",
     "text": [
      "\r",
      "                                                                               \r",
      "\r",
      "/ 0 Elapsed Time: 0:00:00                                                      "
     ]
    },
    {
     "name": "stdout",
     "output_type": "stream",
     "text": [
      "Epoch = 0\n"
     ]
    },
    {
     "name": "stderr",
     "output_type": "stream",
     "text": [
      "| 156 Elapsed Time: 0:01:07                                                    \n",
      "/ 0 Elapsed Time: 0:00:00                                                      "
     ]
    },
    {
     "name": "stdout",
     "output_type": "stream",
     "text": [
      "Accuracy = 75.10\n",
      "Epoch = 1\n"
     ]
    },
    {
     "name": "stderr",
     "output_type": "stream",
     "text": [
      "| 156 Elapsed Time: 0:01:07                                                    \n"
     ]
    },
    {
     "name": "stdout",
     "output_type": "stream",
     "text": [
      "Accuracy = 80.20\n"
     ]
    }
   ],
   "source": [
    "criterion = nn.CrossEntropyLoss()\n",
    "optimizer = torch.optim.Adam(list(model.parameters())+list(embedding_model.parameters()),\n",
    "                             lr=learning_rate)\n",
    "\n",
    "for _ in range(num_epochs):\n",
    "    bar = progressbar.ProgressBar()\n",
    "    print(\"Epoch = {}\".format(_))\n",
    "    for (i, d) in bar(enumerate(train_dataloader)):\n",
    "        output = model(d[0])\n",
    "        loss = criterion(output, Variable(torch.squeeze(d[1], -1)))\n",
    "        optimizer.zero_grad()\n",
    "        loss.backward()\n",
    "        optimizer.step()\n",
    "    correct = 0\n",
    "    total = 0\n",
    "    for (i, d) in enumerate(val_dataloader):\n",
    "        pred = model(d[0]).max(1)[1].data\n",
    "        correct = correct + (pred==d[1]).sum()\n",
    "        total += pred.size(0)\n",
    "    print(\"Accuracy = {:.2f}\".format(correct*100/total))"
   ]
  },
  {
   "cell_type": "code",
   "execution_count": null,
   "metadata": {},
   "outputs": [],
   "source": []
  },
  {
   "cell_type": "code",
   "execution_count": null,
   "metadata": {},
   "outputs": [],
   "source": []
  }
 ],
 "metadata": {
  "kernelspec": {
   "display_name": "Python 3",
   "language": "python",
   "name": "python3"
  },
  "language_info": {
   "codemirror_mode": {
    "name": "ipython",
    "version": 3
   },
   "file_extension": ".py",
   "mimetype": "text/x-python",
   "name": "python",
   "nbconvert_exporter": "python",
   "pygments_lexer": "ipython3",
   "version": "3.5.2"
  }
 },
 "nbformat": 4,
 "nbformat_minor": 2
}
