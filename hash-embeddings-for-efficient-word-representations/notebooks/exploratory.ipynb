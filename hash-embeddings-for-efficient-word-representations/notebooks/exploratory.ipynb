{
 "cells": [
  {
   "cell_type": "code",
   "execution_count": null,
   "metadata": {},
   "outputs": [],
   "source": [
    "import torch\n",
    "import torch.nn as nn\n",
    "import torch.nn.functional as F\n",
    "from torch.autograd import Variable\n",
    "from sklearn.datasets import fetch_20newsgroups\n",
    "import nltk\n",
    "import numpy as np\n",
    "import hashlib"
   ]
  },
  {
   "cell_type": "code",
   "execution_count": null,
   "metadata": {},
   "outputs": [],
   "source": [
    "categories = ['alt.atheism', 'soc.religion.christian', 'comp.graphics', 'sci.med']\n",
    "num_classes = len(categories)\n",
    "twenty_train = fetch_20newsgroups(subset='train', categories=categories, shuffle=True, random_state=42)"
   ]
  },
  {
   "cell_type": "code",
   "execution_count": null,
   "metadata": {},
   "outputs": [],
   "source": [
    "def word_encoder(w, max_idx):\n",
    "    v = int(hashlib.sha1(w.encode('utf-8')).hexdigest(), 16)\n",
    "    return (v % (max_idx-1)) + 1"
   ]
  },
  {
   "cell_type": "code",
   "execution_count": null,
   "metadata": {},
   "outputs": [],
   "source": [
    "max_words = 10**6\n",
    "num_hash = 2\n",
    "num_buckets = 5000\n",
    "embedding_dim = 20\n",
    "num_classes = len(categories)\n",
    "num_hidden_units = 50\n",
    "learning_rate = 1e-4\n",
    "agg_function = torch.sum\n",
    "num_epochs = 5\n",
    "test_idx = int(len(twenty_train.data)*0.5)\n",
    "\n",
    "data = [nltk.word_tokenize(text)[0:150] for text in twenty_train.data]\n",
    "data_encoded = [[word_encoder(w, max_words) for w in text] for text in data]\n",
    "#max_len = max([len(d) for d in data])\n",
    "#data_encoded = [d+[0]*(max_len-len(d)) for d in data_encoded]\n",
    "data_encoded = [torch.LongTensor(d) for d in data_encoded]\n",
    "targets = np.asarray(twenty_train.target, 'int32').reshape((-1,1))"
   ]
  },
  {
   "cell_type": "code",
   "execution_count": null,
   "metadata": {},
   "outputs": [],
   "source": [
    "class HashEmbedding(nn.Module):\n",
    "    \n",
    "    def __init__(self, num_words, num_hash_functions, num_buckets, embedding_size, agg_function):\n",
    "        super(HashEmbedding, self).__init__()\n",
    "        self.num_words = num_words # K\n",
    "        self.num_hash_functions = num_hash_functions # k\n",
    "        self.num_buckets = num_buckets # B\n",
    "        self.embedding_size = embedding_size # d\n",
    "        self.W = nn.Parameter(torch.FloatTensor(num_buckets, embedding_size)) # B x d\n",
    "        self.agg_func = agg_function\n",
    "        self.hash_table = torch.LongTensor(np.random.randint(0, 2**30,\n",
    "                                size=(num_words, num_hash_functions)))%num_buckets # K x k\n",
    "        \n",
    "        self.P = nn.Parameter(torch.FloatTensor(num_words, num_hash_functions)) # K x k\n",
    "\n",
    "    \n",
    "    def forward(self, words_as_ids):\n",
    "        hashes = torch.index_select(self.hash_table, 0, words_as_ids)\n",
    "        z = torch.gather(self.hash_table, 0, hashes)\n",
    "        embeddings = []\n",
    "        for i in range(self.num_hash_functions):\n",
    "            embeddings.append(torch.mul(self.W[z[:, i]].t(), self.P[z[:, i]][:, i]).t())\n",
    "        cat_embeddings = torch.stack(embeddings, -1)\n",
    "        return self.agg_func(cat_embeddings, -1)\n",
    "    \n",
    "    def initializeWeights(self):\n",
    "        nn.init.normal(self.W, 0, 0.1)\n",
    "        nn.init.normal(self.P, 0, 0.0005)"
   ]
  },
  {
   "cell_type": "code",
   "execution_count": null,
   "metadata": {},
   "outputs": [],
   "source": [
    "class Model(nn.Module):\n",
    "    \n",
    "    def __init__(self, embedding_model, num_classes, num_hidden_units):\n",
    "        super(Model, self).__init__()\n",
    "        self.embedding_model = embedding_model\n",
    "        self.num_classes = num_classes\n",
    "        self.dense_layer = nn.Linear(self.embedding_model.embedding_size, num_hidden_units)\n",
    "        self.output_layer = nn.Linear(num_hidden_units, num_classes)\n",
    "    \n",
    "    def forward(self, words_as_ids):\n",
    "        embedded = torch.sum(self.embedding_model(words_as_ids), 0)\n",
    "        dense_output = F.relu(self.dense_layer(embedded))\n",
    "        t = self.output_layer(dense_output)\n",
    "        final_output = F.log_softmax(t, dim=0)\n",
    "        return final_output\n",
    "    \n",
    "    def initializeWeights(self):\n",
    "        nn.init.xavier_uniform(self.dense_layer.weight)\n",
    "        nn.init.xavier_uniform(self.output_layer.weight)\n",
    "        model.dense_layer.bias.data.zero_()\n",
    "        model.output_layer.bias.data.zero_()"
   ]
  },
  {
   "cell_type": "code",
   "execution_count": null,
   "metadata": {},
   "outputs": [],
   "source": [
    "embedding_model = HashEmbedding(max_words, num_hash, num_buckets, embedding_dim, agg_function)\n",
    "embedding_model.initializeWeights()"
   ]
  },
  {
   "cell_type": "code",
   "execution_count": null,
   "metadata": {},
   "outputs": [],
   "source": [
    "model = Model(embedding_model, num_classes, num_hidden_units)\n",
    "model.initializeWeights()"
   ]
  },
  {
   "cell_type": "code",
   "execution_count": null,
   "metadata": {},
   "outputs": [],
   "source": [
    "criterion = nn.CrossEntropyLoss()\n",
    "optimizer = torch.optim.Adam(list(model.parameters())+list(embedding_model.parameters()),\n",
    "                             lr=learning_rate)\n",
    "\n",
    "for _ in range(num_epochs):\n",
    "    print(\"Epoch = {}\".format(_))\n",
    "    for (i, d) in enumerate(data_encoded[:test_idx]):\n",
    "        output = model(d)\n",
    "        loss = criterion(torch.unsqueeze(output, 0), Variable(torch.LongTensor(targets[i])))\n",
    "        #if i%100 == 0:\n",
    "        #    print(\"iter = {}, loss = {:.4f}\".format(i, loss.data[0]))\n",
    "        optimizer.zero_grad()\n",
    "        loss.backward()\n",
    "        optimizer.step()\n",
    "    t = 0\n",
    "    for (i, d) in enumerate(data_encoded[test_idx:]):\n",
    "        pred = model(d).max(0)[1].data[0]\n",
    "        t = t + (pred==targets[i+test_idx][0])\n",
    "    print(\"Accuracy = {:.2f}\".format(t*100/(len(data_encoded)-test_idx)))"
   ]
  },
  {
   "cell_type": "code",
   "execution_count": null,
   "metadata": {},
   "outputs": [],
   "source": []
  }
 ],
 "metadata": {
  "kernelspec": {
   "display_name": "Python 3",
   "language": "python",
   "name": "python3"
  },
  "language_info": {
   "codemirror_mode": {
    "name": "ipython",
    "version": 3
   },
   "file_extension": ".py",
   "mimetype": "text/x-python",
   "name": "python",
   "nbconvert_exporter": "python",
   "pygments_lexer": "ipython3",
   "version": "3.5.2"
  }
 },
 "nbformat": 4,
 "nbformat_minor": 2
}
