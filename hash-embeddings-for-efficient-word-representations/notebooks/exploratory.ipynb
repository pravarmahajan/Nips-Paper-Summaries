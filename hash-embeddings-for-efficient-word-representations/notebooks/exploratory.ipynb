{
 "cells": [
  {
   "cell_type": "code",
   "execution_count": 1,
   "metadata": {},
   "outputs": [],
   "source": [
    "import torch\n",
    "import torch.nn as nn\n",
    "import torch.nn.functional as F\n",
    "from torch.autograd import Variable\n",
    "from sklearn.datasets import fetch_20newsgroups\n",
    "import nltk\n",
    "import numpy as np\n",
    "import hashlib\n",
    "from torch.utils.data import TensorDataset, DataLoader"
   ]
  },
  {
   "cell_type": "code",
   "execution_count": 2,
   "metadata": {},
   "outputs": [],
   "source": [
    "categories = ['alt.atheism', 'soc.religion.christian', 'comp.graphics', 'sci.med']\n",
    "num_classes = len(categories)\n",
    "twenty_train = fetch_20newsgroups(subset='train', categories=categories, shuffle=True, random_state=42)"
   ]
  },
  {
   "cell_type": "code",
   "execution_count": 3,
   "metadata": {},
   "outputs": [],
   "source": [
    "def word_encoder(w, max_idx):\n",
    "    v = int(hashlib.sha1(w.encode('utf-8')).hexdigest(), 16)\n",
    "    return (v % (max_idx-1)) + 1"
   ]
  },
  {
   "cell_type": "code",
   "execution_count": 4,
   "metadata": {},
   "outputs": [],
   "source": [
    "max_words = 10**6\n",
    "num_hash = 2\n",
    "num_buckets = 5000\n",
    "embedding_dim = 20\n",
    "num_classes = len(categories)\n",
    "num_hidden_units = 50\n",
    "learning_rate = 1e-3\n",
    "agg_function = torch.sum\n",
    "num_epochs = 8\n",
    "batch_size = 32\n",
    "test_idx = int(len(twenty_train.data)*0.5)\n",
    "max_len = 150\n",
    "\n",
    "data = [nltk.word_tokenize(text)[0:150] for text in twenty_train.data]\n",
    "data_encoded = [[word_encoder(w, max_words) for w in text] for text in data]\n",
    "#max_len = max([len(d) for d in data])\n",
    "data_encoded = torch.LongTensor([d+[0]*(max_len-len(d)) for d in data_encoded])\n",
    "#data_encoded = [torch.LongTensor(d) for d in data_encoded]\n",
    "targets = torch.LongTensor(np.asarray(twenty_train.target, 'int32'))\n",
    "\n",
    "train_dataset = TensorDataset(data_encoded[:test_idx], targets[:test_idx])\n",
    "test_dataset = TensorDataset(data_encoded[test_idx:], targets[test_idx:])\n",
    "\n",
    "train_dataloader = DataLoader(train_dataset, batch_size=batch_size, shuffle=True)\n",
    "test_dataloader = DataLoader(test_dataset, batch_size=batch_size)"
   ]
  },
  {
   "cell_type": "code",
   "execution_count": 5,
   "metadata": {},
   "outputs": [],
   "source": [
    "class HashEmbedding(nn.Module):\n",
    "    \n",
    "    def __init__(self, num_words, num_hash_functions, num_buckets, embedding_size, agg_function):\n",
    "        super(HashEmbedding, self).__init__()\n",
    "        self.num_words = num_words # K\n",
    "        self.num_hash_functions = num_hash_functions # k\n",
    "        self.num_buckets = num_buckets # B\n",
    "        self.embedding_size = embedding_size # d\n",
    "        self.W = nn.Parameter(torch.FloatTensor(num_buckets, embedding_size)) # B x d\n",
    "        self.agg_func = agg_function\n",
    "        self.hash_table = torch.LongTensor(np.random.randint(0, 2**30,\n",
    "                                size=(num_words, num_hash_functions)))%num_buckets # K x k\n",
    "        \n",
    "        self.P = nn.Parameter(torch.FloatTensor(num_words, num_hash_functions)) # K x k\n",
    "\n",
    "    \n",
    "    def forward(self, words_as_ids):\n",
    "        embeddings = []\n",
    "        pvals = []\n",
    "        for i in range(self.num_hash_functions):\n",
    "            hashes = torch.take(self.hash_table[:, i], words_as_ids)\n",
    "            embeddings.append(self.W[hashes, :]*self.P[hashes, :][:, :, i].unsqueeze(-1))\n",
    "            pvals.append(self.P[hashes, :][:, :, i].unsqueeze(-1))\n",
    "\n",
    "        cat_embeddings = torch.stack(embeddings, -1)\n",
    "        cat_embeddings = self.agg_func(cat_embeddings, -1)\n",
    "        cat_pvals = torch.cat(pvals, -1)\n",
    "        output = torch.cat([cat_embeddings, cat_pvals], -1)\n",
    "        return output\n",
    "        #return cat_embeddings\n",
    "    \n",
    "    def initializeWeights(self):\n",
    "        nn.init.normal(self.W, 0, 0.1)\n",
    "        nn.init.normal(self.P, 0, 0.0005)"
   ]
  },
  {
   "cell_type": "code",
   "execution_count": 6,
   "metadata": {},
   "outputs": [],
   "source": [
    "class Model(nn.Module):\n",
    "    \n",
    "    def __init__(self, embedding_model, num_classes, num_hidden_units):\n",
    "        super(Model, self).__init__()\n",
    "        self.embedding_model = embedding_model\n",
    "        self.num_classes = num_classes\n",
    "        self.dense_layer = nn.Linear(self.embedding_model.embedding_size+self.embedding_model.num_hash_functions,\n",
    "        #self.dense_layer = nn.Linear(self.embedding_model.embedding_size,\n",
    "                                     num_hidden_units)\n",
    "        self.output_layer = nn.Linear(num_hidden_units, num_classes)\n",
    "    \n",
    "    def forward(self, words_as_ids):\n",
    "        mask = Variable(torch.unsqueeze(1-torch.eq(words_as_ids, 0).float(), -1))\n",
    "        embedded = torch.sum(self.embedding_model(words_as_ids)*mask, 1)\n",
    "        #import pdb; pdb.set_trace()\n",
    "        dense_output = F.relu(self.dense_layer(embedded))\n",
    "        final_output = self.output_layer(dense_output)\n",
    "        return final_output\n",
    "    \n",
    "    def initializeWeights(self):\n",
    "        nn.init.xavier_uniform(self.dense_layer.weight)\n",
    "        nn.init.xavier_uniform(self.output_layer.weight)\n",
    "        model.dense_layer.bias.data.zero_()\n",
    "        model.output_layer.bias.data.zero_()"
   ]
  },
  {
   "cell_type": "code",
   "execution_count": 7,
   "metadata": {},
   "outputs": [],
   "source": [
    "embedding_model = HashEmbedding(max_words, num_hash, num_buckets, embedding_dim, agg_function)\n",
    "embedding_model.initializeWeights()"
   ]
  },
  {
   "cell_type": "code",
   "execution_count": 8,
   "metadata": {},
   "outputs": [],
   "source": [
    "model = Model(embedding_model, num_classes, num_hidden_units)\n",
    "model.initializeWeights()"
   ]
  },
  {
   "cell_type": "code",
   "execution_count": 9,
   "metadata": {},
   "outputs": [
    {
     "name": "stdout",
     "output_type": "stream",
     "text": [
      "Epoch = 0\n",
      "Accuracy = 56.07\n",
      "Epoch = 1\n",
      "Accuracy = 88.04\n",
      "Epoch = 2\n",
      "Accuracy = 91.23\n",
      "Epoch = 3\n",
      "Accuracy = 90.26\n",
      "Epoch = 4\n",
      "Accuracy = 90.97\n",
      "Epoch = 5\n",
      "Accuracy = 92.38\n",
      "Epoch = 6\n",
      "Accuracy = 91.94\n",
      "Epoch = 7\n",
      "Accuracy = 92.21\n"
     ]
    }
   ],
   "source": [
    "criterion = nn.CrossEntropyLoss()\n",
    "optimizer = torch.optim.Adam(list(model.parameters())+list(embedding_model.parameters()),\n",
    "                             lr=learning_rate)\n",
    "\n",
    "for _ in range(num_epochs):\n",
    "    print(\"Epoch = {}\".format(_))\n",
    "    for (i, d) in enumerate(train_dataloader):\n",
    "        output = model(d[0])\n",
    "        loss = criterion(output, Variable(torch.squeeze(d[1], -1)))\n",
    "        optimizer.zero_grad()\n",
    "        loss.backward()\n",
    "        optimizer.step()\n",
    "    correct = 0\n",
    "    total = 0\n",
    "    for (i, d) in enumerate(test_dataloader):\n",
    "        pred = model(d[0]).max(1)[1].data\n",
    "        correct = correct + (pred==d[1]).sum()\n",
    "        total += pred.size(0)\n",
    "    print(\"Accuracy = {:.2f}\".format(correct*100/total))"
   ]
  },
  {
   "cell_type": "code",
   "execution_count": null,
   "metadata": {},
   "outputs": [],
   "source": []
  }
 ],
 "metadata": {
  "kernelspec": {
   "display_name": "Python 3",
   "language": "python",
   "name": "python3"
  },
  "language_info": {
   "codemirror_mode": {
    "name": "ipython",
    "version": 3
   },
   "file_extension": ".py",
   "mimetype": "text/x-python",
   "name": "python",
   "nbconvert_exporter": "python",
   "pygments_lexer": "ipython3",
   "version": "3.5.2"
  }
 },
 "nbformat": 4,
 "nbformat_minor": 2
}
